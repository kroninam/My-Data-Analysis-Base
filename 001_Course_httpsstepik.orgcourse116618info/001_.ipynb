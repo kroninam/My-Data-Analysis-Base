{
 "cells": [
  {
   "cell_type": "markdown",
   "id": "1adf9427",
   "metadata": {},
   "source": [
    "# Как вставить фото в Jupyter notebook"
   ]
  },
  {
   "cell_type": "markdown",
   "id": "04ededfe",
   "metadata": {},
   "source": [
    "!['Komment'](Blo-Blo.jpeg)"
   ]
  },
  {
   "cell_type": "raw",
   "id": "20fd79ce",
   "metadata": {},
   "source": []
  },
  {
   "cell_type": "markdown",
   "id": "f97aa007",
   "metadata": {},
   "source": [
    "# Задача №1"
   ]
  },
  {
   "cell_type": "code",
   "execution_count": null,
   "id": "4d92b9ac",
   "metadata": {},
   "outputs": [],
   "source": [
    "Напишите функцию, которая в качестве параметра принимает число n \n",
    "и отображает n первых чисел Фибоначчи, не считая 0.\n",
    "\n",
    "Sample Input:\n",
    "\n",
    "3\n",
    "Sample Output:\n",
    "\n",
    "0 1 1 2"
   ]
  },
  {
   "cell_type": "code",
   "execution_count": 20,
   "id": "1d2bbb20",
   "metadata": {},
   "outputs": [],
   "source": [
    "def fib(num):\n",
    "    res = [0, 1]\n",
    "    \n",
    "    for i in range(num-1):\n",
    "        s = res[-1]\n",
    "        p = res[-2]\n",
    "        res.append(s + p)\n",
    "    \n",
    "    return res"
   ]
  },
  {
   "cell_type": "code",
   "execution_count": 21,
   "id": "9005e9bb",
   "metadata": {},
   "outputs": [
    {
     "data": {
      "text/plain": [
       "[0, 1, 1, 2]"
      ]
     },
     "execution_count": 21,
     "metadata": {},
     "output_type": "execute_result"
    }
   ],
   "source": [
    "fib(3)"
   ]
  },
  {
   "cell_type": "code",
   "execution_count": null,
   "id": "828d3e36",
   "metadata": {},
   "outputs": [],
   "source": []
  },
  {
   "cell_type": "markdown",
   "id": "4d616b6c",
   "metadata": {},
   "source": [
    "# Pandas"
   ]
  },
  {
   "cell_type": "code",
   "execution_count": 25,
   "id": "0fcf4991",
   "metadata": {},
   "outputs": [],
   "source": [
    "import pandas as pd"
   ]
  },
  {
   "cell_type": "code",
   "execution_count": null,
   "id": "90d849ac",
   "metadata": {},
   "outputs": [],
   "source": [
    "Напишите программу, которая подсчитывает количество уникальных элементов в столбце 'Subject'. \n",
    "\n",
    "Sample Input:\n",
    "\n",
    "stud_id; Subject; grade\n",
    "1;ТВиМС;60\n",
    "2;МОР;70\n",
    "3;ТВиМС;80\n",
    "4;МОР;85\n",
    "5;ТВиМС;100\n",
    "Sample Output:\n",
    "\n",
    "2"
   ]
  },
  {
   "cell_type": "code",
   "execution_count": 121,
   "id": "113ae80d",
   "metadata": {},
   "outputs": [],
   "source": [
    "data = '''stud_id; Subject; grade\\n\n",
    "1;ТВиМС;60\\n\n",
    "2;МОР;70\\n\n",
    "3;ТВиМС;80\\n\n",
    "4;МОР;85\\n\n",
    "5;ТВиМС;100'''"
   ]
  },
  {
   "cell_type": "code",
   "execution_count": 122,
   "id": "649654f5",
   "metadata": {},
   "outputs": [
    {
     "data": {
      "text/plain": [
       "['stud_id; Subject; grade',\n",
       " '',\n",
       " '1;ТВиМС;60',\n",
       " '',\n",
       " '2;МОР;70',\n",
       " '',\n",
       " '3;ТВиМС;80',\n",
       " '',\n",
       " '4;МОР;85',\n",
       " '',\n",
       " '5;ТВиМС;100']"
      ]
     },
     "execution_count": 122,
     "metadata": {},
     "output_type": "execute_result"
    }
   ],
   "source": [
    "data.split('\\n')"
   ]
  },
  {
   "cell_type": "code",
   "execution_count": 118,
   "id": "694fe599",
   "metadata": {},
   "outputs": [
    {
     "data": {
      "text/html": [
       "<div>\n",
       "<style scoped>\n",
       "    .dataframe tbody tr th:only-of-type {\n",
       "        vertical-align: middle;\n",
       "    }\n",
       "\n",
       "    .dataframe tbody tr th {\n",
       "        vertical-align: top;\n",
       "    }\n",
       "\n",
       "    .dataframe thead th {\n",
       "        text-align: right;\n",
       "    }\n",
       "</style>\n",
       "<table border=\"1\" class=\"dataframe\">\n",
       "  <thead>\n",
       "    <tr style=\"text-align: right;\">\n",
       "      <th></th>\n",
       "      <th>0</th>\n",
       "    </tr>\n",
       "  </thead>\n",
       "  <tbody>\n",
       "    <tr>\n",
       "      <th>0</th>\n",
       "      <td>stud_id; Subject; grade\\n\\n1;ТВиМС;60\\n\\n2;МОР...</td>\n",
       "    </tr>\n",
       "  </tbody>\n",
       "</table>\n",
       "</div>"
      ],
      "text/plain": [
       "                                                   0\n",
       "0  stud_id; Subject; grade\\n\\n1;ТВиМС;60\\n\\n2;МОР..."
      ]
     },
     "execution_count": 118,
     "metadata": {},
     "output_type": "execute_result"
    }
   ],
   "source": [
    "pd.DataFrame(data)"
   ]
  },
  {
   "cell_type": "code",
   "execution_count": 80,
   "id": "c531e662",
   "metadata": {},
   "outputs": [
    {
     "name": "stdout",
     "output_type": "stream",
     "text": [
      "stud_id; Subject; grade\n",
      "1;ТВиМС;60\n",
      "2;МОР;70\n",
      "3;ТВиМС;80\n",
      "4;МОР;85\n",
      "5;ТВиМС;100\n"
     ]
    }
   ],
   "source": [
    "s = input().split(';')\n",
    "\n",
    "one = []\n",
    "two = []\n",
    "three = []\n",
    "\n",
    "\n",
    "for i in range(5):\n",
    "    ss = input().split(';')\n",
    "    one.append(ss[0])\n",
    "    two.append(ss[1])\n",
    "    three.append(ss[2])"
   ]
  },
  {
   "cell_type": "code",
   "execution_count": 98,
   "id": "66319b5b",
   "metadata": {},
   "outputs": [],
   "source": [
    "df = pd.DataFrame({'stud_id':[], 'Subject':[], 'grade':[]})"
   ]
  },
  {
   "cell_type": "code",
   "execution_count": 99,
   "id": "862b3aae",
   "metadata": {},
   "outputs": [
    {
     "data": {
      "text/html": [
       "<div>\n",
       "<style scoped>\n",
       "    .dataframe tbody tr th:only-of-type {\n",
       "        vertical-align: middle;\n",
       "    }\n",
       "\n",
       "    .dataframe tbody tr th {\n",
       "        vertical-align: top;\n",
       "    }\n",
       "\n",
       "    .dataframe thead th {\n",
       "        text-align: right;\n",
       "    }\n",
       "</style>\n",
       "<table border=\"1\" class=\"dataframe\">\n",
       "  <thead>\n",
       "    <tr style=\"text-align: right;\">\n",
       "      <th></th>\n",
       "      <th>stud_id</th>\n",
       "      <th>Subject</th>\n",
       "      <th>grade</th>\n",
       "    </tr>\n",
       "  </thead>\n",
       "  <tbody>\n",
       "  </tbody>\n",
       "</table>\n",
       "</div>"
      ],
      "text/plain": [
       "Empty DataFrame\n",
       "Columns: [stud_id, Subject, grade]\n",
       "Index: []"
      ]
     },
     "execution_count": 99,
     "metadata": {},
     "output_type": "execute_result"
    }
   ],
   "source": [
    "df"
   ]
  },
  {
   "cell_type": "code",
   "execution_count": 111,
   "id": "9e2ff581",
   "metadata": {},
   "outputs": [
    {
     "name": "stdout",
     "output_type": "stream",
     "text": [
      "1;ТВиМС;60\n"
     ]
    }
   ],
   "source": [
    "s = input().split(';')"
   ]
  },
  {
   "cell_type": "code",
   "execution_count": 114,
   "id": "e867a865",
   "metadata": {},
   "outputs": [
    {
     "data": {
      "text/plain": [
       "['1', 'ТВиМС', '60']"
      ]
     },
     "execution_count": 114,
     "metadata": {},
     "output_type": "execute_result"
    }
   ],
   "source": [
    "s"
   ]
  },
  {
   "cell_type": "code",
   "execution_count": null,
   "id": "d8309807",
   "metadata": {},
   "outputs": [],
   "source": []
  },
  {
   "cell_type": "code",
   "execution_count": null,
   "id": "6a3d8d49",
   "metadata": {},
   "outputs": [],
   "source": []
  },
  {
   "cell_type": "code",
   "execution_count": null,
   "id": "36410f98",
   "metadata": {},
   "outputs": [],
   "source": []
  }
 ],
 "metadata": {
  "kernelspec": {
   "display_name": "Python 3 (ipykernel)",
   "language": "python",
   "name": "python3"
  },
  "language_info": {
   "codemirror_mode": {
    "name": "ipython",
    "version": 3
   },
   "file_extension": ".py",
   "mimetype": "text/x-python",
   "name": "python",
   "nbconvert_exporter": "python",
   "pygments_lexer": "ipython3",
   "version": "3.10.2"
  }
 },
 "nbformat": 4,
 "nbformat_minor": 5
}
